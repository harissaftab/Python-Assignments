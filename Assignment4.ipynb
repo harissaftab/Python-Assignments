{
 "cells": [
  {
   "cell_type": "code",
   "execution_count": 13,
   "metadata": {},
   "outputs": [
    {
     "name": "stdout",
     "output_type": "stream",
     "text": [
      "{'fname': 'Ahmed', 'lname': 'Siddqui', 'age': 20, 'city': 'karachi'}\n",
      "Ahmed\n",
      "Siddqui\n",
      "20\n",
      "karachi\n",
      "Undergraduate\n",
      "High Academic Level\n"
     ]
    }
   ],
   "source": [
    "#Assignment 4\n",
    "#Question 1\n",
    "person={\n",
    "    \"fname\":\"Ahmed\",\n",
    "    \"lname\":\"Siddqui\",\n",
    "    \"age\":20,\n",
    "    \"city\":\"karachi\"\n",
    "}\n",
    "print(person)\n",
    "print(person[\"fname\"])\n",
    "print(person[\"lname\"])\n",
    "print(person[\"age\"])\n",
    "print(person[\"city\"])\n",
    "\n",
    "person[\"qualification\"]=\"Undergraduate\"\n",
    "print(person[\"qualification\"])\n",
    "person[\"qualification\"]=\"High Academic Level\"\n",
    "print(person[\"qualification\"])\n",
    "del person[\"qualification\"]\n",
    "\n"
   ]
  },
  {
   "cell_type": "code",
   "execution_count": 13,
   "metadata": {},
   "outputs": [
    {
     "name": "stdout",
     "output_type": "stream",
     "text": [
      "City ('Karachi', {'country': 'Pakistan', 'Population': '18 crore', 'Fact': 'City of Lights'})\n",
      "City ('Sydney', {'country': 'Australia', 'Population': '5.23 Million', 'Fact': 'Costal Metropolis'})\n",
      "City ('London', {'country': 'England', 'Population': '8.9 Million', 'Fact': 'London is Smallest City of England'})\n"
     ]
    }
   ],
   "source": [
    "#Question 2\n",
    "cities={\n",
    "    \"Karachi\":\n",
    "    {\n",
    "        \"country\":\"Pakistan\",\n",
    "        \"Population\":\"18 crore\",\n",
    "        \"Fact\":\"City of Lights\",\n",
    "    },\n",
    "    \"Sydney\":\n",
    "    {\n",
    "        \"country\":\"Australia\",\n",
    "        \"Population\":\"5.23 Million\",\n",
    "        \"Fact\":\"Costal Metropolis\",\n",
    "    },\n",
    "    \"London\":\n",
    "    {\n",
    "        \"country\":\"England\",\n",
    "        \"Population\":\"8.9 Million\",\n",
    "        \"Fact\":\"London is Smallest City of England\",\n",
    "    }\n",
    "}\n",
    "\n",
    "for city in cities.items():\n",
    " print(\"City\",city)\n",
    " \n"
   ]
  },
  {
   "cell_type": "code",
   "execution_count": 14,
   "metadata": {},
   "outputs": [
    {
     "name": "stdout",
     "output_type": "stream",
     "text": [
      "Enter Your Age: 11\n",
      "Your ticket Price : 12$\n"
     ]
    }
   ],
   "source": [
    "#Question 3\n",
    "\n",
    "age=int(input(\"Enter Your Age: \"))\n",
    "if(age<3):\n",
    "    print(\"Your ticket is free\")\n",
    "elif(age>3 and age<12):\n",
    "    print(\"Your ticket Price : 12$\")\n",
    "elif(age>12):\n",
    "    print(\"Your ticket Price : 15$\")"
   ]
  },
  {
   "cell_type": "code",
   "execution_count": 15,
   "metadata": {},
   "outputs": [
    {
     "name": "stdout",
     "output_type": "stream",
     "text": [
      "Enter Book titlebook\n",
      "One of my favorite books is Alice in Wonderland.\n"
     ]
    }
   ],
   "source": [
    "#Question 4\n",
    "\n",
    "def favourite_book(title):\n",
    "    print(\"One of my favorite books is Alice in Wonderland.\")\n",
    "    \n",
    "t=input(\"Enter Book title\")\n",
    "favourite_book(t)"
   ]
  },
  {
   "cell_type": "code",
   "execution_count": 39,
   "metadata": {},
   "outputs": [
    {
     "name": "stdout",
     "output_type": "stream",
     "text": [
      "Game!!!\n",
      "Guess a Number\n",
      "You will be given 3 chances with hints to guess the correct number\n",
      "Enter Number  Hint: Number is between 1-30\n",
      ":15\n",
      "WOW You are right\n"
     ]
    }
   ],
   "source": [
    "#Question 5\n",
    "import random\n",
    "\n",
    "var1=random.randint(1,30)\n",
    "print(\"Game!!!\\nGuess a Number\\nYou will be given 3 chances with hints to guess the correct number\")\n",
    "try1=int(input(\"Enter Number  Hint: Number is between 1-30\\n:\"))\n",
    "if var1==try1:\n",
    "            print(\"WOW You are right\")\n",
    "    \n",
    "else:\n",
    "    if try1<var1:\n",
    "        try2=int(input(\"Wrong! lets try Again  Hint: Number is greater than your last Number\\n:  \"))\n",
    "        if try2==var1:\n",
    "                    print(\"WOW You are right\")\n",
    "        else:\n",
    "            if try2<var1:\n",
    "                try3=int(input(\"Wrong! lets try Again  Hint: Number is greater than your last Number\\n:  \"))\n",
    "                if try3==var1:\n",
    "                    print(\"WOW You are right\")\n",
    "                else:\n",
    "                    print(\"Game Over You Looser the Number was :\",var1)\n",
    "                    \n",
    "            elif try2>var1:\n",
    "                try3=int(input(\"Wrong! lets try Again  Hint: Number is Smaller than your last Number\\n:  \"))\n",
    "                if try3==var1:\n",
    "                    print(\"WOW You are right\")\n",
    "                else:\n",
    "                    print(\"Game Over You Looser the Number was :\",var1)\n",
    "                \n",
    "    elif try1>var1:\n",
    "        try2=int(input(\"Wrong! lets try Again  Hint: Number is Smaller than your last Number\\n:  \"))\n",
    "        if try2==var1:\n",
    "            print(\"WOW You are right\")\n",
    "        else:\n",
    "            if try2<var1:\n",
    "                try3=int(input(\"Wrong! lets try Again  Hint: Number is greater than your last Number\\n:  \"))\n",
    "                if try3==var1:\n",
    "                    print(\"WOW You are right\")\n",
    "                else:\n",
    "                    print(\"Game Over You Looser the Number was :\",var1)\n",
    "                    \n",
    "            elif try2>var1:\n",
    "                try3=int(input(\"Wrong! lets try Again  Hint: Number is Smaller than your last Number\\n:  \"))\n",
    "                if try3==var1:\n",
    "                    print(\"WOW You are right\")\n",
    "                else:\n",
    "                    print(\"Game Over You Looser the Number was :\",var1)\n",
    "                "
   ]
  },
  {
   "cell_type": "code",
   "execution_count": null,
   "metadata": {},
   "outputs": [],
   "source": []
  },
  {
   "cell_type": "code",
   "execution_count": null,
   "metadata": {},
   "outputs": [],
   "source": []
  },
  {
   "cell_type": "code",
   "execution_count": null,
   "metadata": {},
   "outputs": [],
   "source": []
  }
 ],
 "metadata": {
  "kernelspec": {
   "display_name": "Python 3",
   "language": "python",
   "name": "python3"
  },
  "language_info": {
   "codemirror_mode": {
    "name": "ipython",
    "version": 3
   },
   "file_extension": ".py",
   "mimetype": "text/x-python",
   "name": "python",
   "nbconvert_exporter": "python",
   "pygments_lexer": "ipython3",
   "version": "3.7.4"
  }
 },
 "nbformat": 4,
 "nbformat_minor": 4
}
