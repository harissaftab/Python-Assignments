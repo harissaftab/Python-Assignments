{
 "cells": [
  {
   "cell_type": "code",
   "execution_count": 9,
   "metadata": {},
   "outputs": [
    {
     "name": "stdout",
     "output_type": "stream",
     "text": [
      "120\n"
     ]
    }
   ],
   "source": [
    "#Assignment5\n",
    "#Question 1\n",
    "\n",
    "def fact(num):\n",
    "    num2=1\n",
    "    if(num<0 or num==0):\n",
    "        print(\"Negative or Zero Number not allowed\")\n",
    "    else:\n",
    "        for i in range(1,num+1):\n",
    "            num2=num2*i\n",
    "        print(num2)\n",
    "    \n",
    "fact(5)    "
   ]
  },
  {
   "cell_type": "code",
   "execution_count": 25,
   "metadata": {},
   "outputs": [
    {
     "name": "stdout",
     "output_type": "stream",
     "text": [
      "Number of Lower Case Letters 2\n",
      "Number of Upper Case Letters 2\n"
     ]
    }
   ],
   "source": [
    "#Question 2\n",
    "\n",
    "def string(a):\n",
    "        upper=0\n",
    "        lower=0\n",
    "        for i in a:\n",
    "            if i.isupper():\n",
    "                   upper=upper+1\n",
    "            elif i.islower():\n",
    "                    lower=lower+1\n",
    "                    \n",
    "        print(\"Number of Lower Case Letters\",lower)\n",
    "        print(\"Number of Upper Case Letters\",upper)\n",
    "    \n",
    "string(\"AzAm\")    "
   ]
  },
  {
   "cell_type": "code",
   "execution_count": 31,
   "metadata": {},
   "outputs": [
    {
     "name": "stdout",
     "output_type": "stream",
     "text": [
      "2\n",
      "4\n",
      "6\n"
     ]
    }
   ],
   "source": [
    "#Question 3\n",
    "\n",
    "def evennum(a=[]):\n",
    "    \n",
    "    for i in a:\n",
    "        if i%2==0:\n",
    "            print(i)\n",
    "            \n",
    "\n",
    "evennum(a=[1,2,3,4,5,6])\n",
    "    "
   ]
  },
  {
   "cell_type": "code",
   "execution_count": 63,
   "metadata": {},
   "outputs": [
    {
     "name": "stdout",
     "output_type": "stream",
     "text": [
      "String is Palindrome\n"
     ]
    }
   ],
   "source": [
    "#Question 4\n",
    "def palindrome(string):\n",
    "    rev_string=reversed(string)\n",
    "    if list(string)==list(rev_string):\n",
    "        print(\"String is Palindrome\")\n",
    "    else:\n",
    "        print(\"String is NOT an Palindrome\")\n",
    "\n",
    "palindrome(\"azaza\")        "
   ]
  },
  {
   "cell_type": "code",
   "execution_count": 67,
   "metadata": {},
   "outputs": [
    {
     "name": "stdout",
     "output_type": "stream",
     "text": [
      "Number is Prime\n"
     ]
    }
   ],
   "source": [
    "#Question 5\n",
    "\n",
    "def prime(num):\n",
    "    for i in range(2,num):\n",
    "            if num%i==0:\n",
    "                    print(\"Number is not prime\")\n",
    "                    break\n",
    "            else:\n",
    "                    print(\"Number is Prime\")\n",
    "                    break\n",
    "                \n",
    "prime(31)                "
   ]
  },
  {
   "cell_type": "code",
   "execution_count": 68,
   "metadata": {},
   "outputs": [
    {
     "name": "stdout",
     "output_type": "stream",
     "text": [
      "Sugar\n",
      "Biscuits\n",
      "Fruits\n",
      "Candies\n",
      "Chips\n"
     ]
    }
   ],
   "source": [
    "#Question 6\n",
    "\n",
    "def shopping(*items):\n",
    "    for i in items:\n",
    "        print(i)\n",
    "\n",
    "shopping(\"Sugar\",\"Biscuits\",\"Fruits\",\"Candies\",\"Chips\")        "
   ]
  },
  {
   "cell_type": "code",
   "execution_count": null,
   "metadata": {},
   "outputs": [],
   "source": []
  },
  {
   "cell_type": "code",
   "execution_count": null,
   "metadata": {},
   "outputs": [],
   "source": []
  }
 ],
 "metadata": {
  "kernelspec": {
   "display_name": "Python 3",
   "language": "python",
   "name": "python3"
  },
  "language_info": {
   "codemirror_mode": {
    "name": "ipython",
    "version": 3
   },
   "file_extension": ".py",
   "mimetype": "text/x-python",
   "name": "python",
   "nbconvert_exporter": "python",
   "pygments_lexer": "ipython3",
   "version": "3.7.4"
  }
 },
 "nbformat": 4,
 "nbformat_minor": 2
}
