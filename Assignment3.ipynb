{
 "cells": [
  {
   "cell_type": "code",
   "execution_count": 15,
   "metadata": {},
   "outputs": [
    {
     "name": "stdout",
     "output_type": "stream",
     "text": [
      "Enter Opt 1.Add 2.Subtract 3.Multiply 4.Divide 5.Power5\n",
      "Enter Number2\n",
      "Enter Power2\n",
      "Number Power Result : 4.0\n"
     ]
    }
   ],
   "source": [
    "#Assignment 3\n",
    "#Task 1 Calculator\n",
    "\n",
    "opt=input(\"Enter Opt 1.Add 2.Subtract 3.Multiply 4.Divide 5.Power\")\n",
    "if opt==\"1\":\n",
    "    num1=float(input(\"Enter First Number\"))\n",
    "    num2=float(input(\"Enter Second Number\"))\n",
    "    print(\"Add :\",num1+num2)\n",
    "elif opt==\"2\":\n",
    "    num1=float(input(\"Enter First Number\"))\n",
    "    num2=float(input(\"Enter Second Number\"))\n",
    "    print(\"Sub :\",num1-num2)\n",
    "elif opt==\"3\":\n",
    "    num1=float(input(\"Enter First Number\"))\n",
    "    num2=float(input(\"Enter Second Number\"))\n",
    "    print(\"Mul :\",num1*num2)\n",
    "elif opt==\"4\":\n",
    "    num1=float(input(\"Enter First Number\"))\n",
    "    num2=float(input(\"Enter Second Number\"))\n",
    "    print(\"Div :\",num1/num2)\n",
    "elif opt==\"5\":\n",
    "    num1=float(input(\"Enter Number\"))\n",
    "    num2=float(input(\"Enter Power\"))\n",
    "    print(\"Number Power Result :\", num1**num2)\n",
    "else :\n",
    "    print(\"Invalid Input\")\n"
   ]
  },
  {
   "cell_type": "code",
   "execution_count": 16,
   "metadata": {},
   "outputs": [
    {
     "name": "stdout",
     "output_type": "stream",
     "text": [
      "Yes there is a numeric value.\n"
     ]
    }
   ],
   "source": [
    "#Task 2\n",
    "check_input = False\n",
    "list1 = ('a','b',1,2,3,'c','d','e','4','5',0,6)\n",
    "for i in list1:\n",
    "    if type(i) == int:\n",
    "        check_input = True\n",
    "        break\n",
    "if check_input == True:\n",
    "    print(\"Yes there is a numeric value.\")\n",
    "else:\n",
    "    print(\"Sorry there is no any numeric value.\")"
   ]
  },
  {
   "cell_type": "code",
   "execution_count": 17,
   "metadata": {},
   "outputs": [
    {
     "name": "stdout",
     "output_type": "stream",
     "text": [
      "Enter a Key5\n",
      "Enter a Valuefive\n",
      "{0: 'zero', 1: 'one', '5': 'five'}\n"
     ]
    }
   ],
   "source": [
    "#task3\n",
    "dic1 = {0:\"zero\",1:\"one\"}\n",
    "dic1.update({(input(\"Enter a Key\")):(input(\"Enter a Value\"))})\n",
    "print(dic1)"
   ]
  },
  {
   "cell_type": "code",
   "execution_count": 18,
   "metadata": {},
   "outputs": [
    {
     "name": "stdout",
     "output_type": "stream",
     "text": [
      "dict_values([1, 2, 3, 'four', 5, 'six'])\n",
      "11\n"
     ]
    }
   ],
   "source": [
    "#Task 4\n",
    "dic_2 = {'1':1,'2':2,'3':3,'4':'four','5':5,'6':'six'}\n",
    "sum = 0\n",
    "print(dic_2.values())\n",
    "for i in dic_2.values():\n",
    "    if type(i) == int:\n",
    "        sum += i\n",
    "print(sum)"
   ]
  },
  {
   "cell_type": "code",
   "execution_count": 19,
   "metadata": {},
   "outputs": [
    {
     "name": "stdout",
     "output_type": "stream",
     "text": [
      "These are the Duplicates :  ['a', 'b', 1, 2, 3, 'd']\n"
     ]
    }
   ],
   "source": [
    "#Task 5\n",
    "list_1 = ('a','a','c',1,2,3,'b','d','b',1,2,3,4,'d')\n",
    "dup = set()\n",
    "had = []\n",
    "for i in list_1:\n",
    "    if i not in dup:\n",
    "        dup.add(i)\n",
    "    else:\n",
    "        had.append(i)\n",
    "print(\"These are the Duplicates : \", had)\n"
   ]
  },
  {
   "cell_type": "code",
   "execution_count": 20,
   "metadata": {},
   "outputs": [
    {
     "name": "stdout",
     "output_type": "stream",
     "text": [
      "Enter Key : 0\n",
      "Present\n"
     ]
    }
   ],
   "source": [
    "#Task 6\n",
    "dic1 = {'0':'0',1:'one'}\n",
    "key = input(\"Enter Key : \")\n",
    "if key in dic1.keys():\n",
    "    print(\"Present\")\n",
    "else:\n",
    "    print(\"Not Present\")"
   ]
  },
  {
   "cell_type": "code",
   "execution_count": null,
   "metadata": {},
   "outputs": [],
   "source": []
  }
 ],
 "metadata": {
  "kernelspec": {
   "display_name": "Python 3",
   "language": "python",
   "name": "python3"
  },
  "language_info": {
   "codemirror_mode": {
    "name": "ipython",
    "version": 3
   },
   "file_extension": ".py",
   "mimetype": "text/x-python",
   "name": "python",
   "nbconvert_exporter": "python",
   "pygments_lexer": "ipython3",
   "version": "3.7.4"
  }
 },
 "nbformat": 4,
 "nbformat_minor": 2
}
