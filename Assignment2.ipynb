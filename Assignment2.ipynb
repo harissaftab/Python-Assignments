{
 "cells": [
  {
   "cell_type": "code",
   "execution_count": 3,
   "metadata": {
    "scrolled": true
   },
   "outputs": [
    {
     "name": "stdin",
     "output_type": "stream",
     "text": [
      "Enter your number: 5\n"
     ]
    },
    {
     "name": "stdout",
     "output_type": "stream",
     "text": [
      "Number is odd\n"
     ]
    }
   ],
   "source": [
    "#TASK02\n",
    "x = int(input('Enter your number:'))\n",
    "if (x%2)==0:\n",
    "    print('Number is even')\n",
    "else:\n",
    "    print('Number is odd')"
   ]
  },
  {
   "cell_type": "code",
   "execution_count": 1,
   "metadata": {},
   "outputs": [
    {
     "name": "stdout",
     "output_type": "stream",
     "text": [
      "Enter Maths Marks: 16\n",
      "Enter Social Studies Marks: 18\n",
      "Enter Science Marks: 20\n",
      "Enter Computer Marks: 17\n",
      "Enter Urdu Marks: 11\n",
      "82.0\n",
      "Your Grade is A+\n"
     ]
    }
   ],
   "source": [
    "#TASK1\n",
    "math = int(input(\"Maths Marks: \"))\n",
    "sst = int(input(\"Social Studies Marks: \"))\n",
    "science = int(input(\"Science Marks: \"))\n",
    "computer = int(input(\"Computer Marks: \"))\n",
    "urdu = int(input(\"Urdu Marks: \"))\n",
    "total= math+sst+science+computer+urdu\n",
    "per = total/100 * 100\n",
    "print(per)\n",
    "if per >= 80 and per <= 100:\n",
    "    print(\"Grade: A+\")\n",
    "elif per >=70 and per < 80 :\n",
    "    print(\"Grade: A\")\n",
    "elif per >=60 and per < 70 :\n",
    "    print(\"Grade: B\")\n",
    "elif per >=50 and per < 60:\n",
    "    print(\"Grade: C\")\n",
    "elif per >=40 and per < 50:\n",
    "    print(\"Grade: D\")\n",
    "elif per >=0 and per < 40:\n",
    "    print(\"Grade: F \")\n",
    "else:\n",
    "    print(\"Invalid Input\")\n"
   ]
  },
  {
   "cell_type": "code",
   "execution_count": 11,
   "metadata": {},
   "outputs": [
    {
     "name": "stdout",
     "output_type": "stream",
     "text": [
      "The length of list is \n",
      "11\n"
     ]
    }
   ],
   "source": [
    "#TASK03\n",
    "a = [1, 1, 2, 3, 5, 8, 13, 21, 34, 55, 89]#Let suppose this list\n",
    "print('The length of list is ');print(len(a))"
   ]
  },
  {
   "cell_type": "code",
   "execution_count": 3,
   "metadata": {},
   "outputs": [
    {
     "name": "stdout",
     "output_type": "stream",
     "text": [
      "The sum of all elements is: 232\n"
     ]
    }
   ],
   "source": [
    "#TASK04\n",
    "y=0\n",
    "a = [1, 1, 2, 3, 5, 8, 13, 21, 34, 55, 89]\n",
    "for x in a:\n",
    "    y=y+x\n",
    "print(\"The sum of all elements is:\",y)"
   ]
  },
  {
   "cell_type": "code",
   "execution_count": 6,
   "metadata": {},
   "outputs": [
    {
     "name": "stdout",
     "output_type": "stream",
     "text": [
      "Largest element is: 89\n"
     ]
    }
   ],
   "source": [
    "#TASK05\n",
    "a = [1, 1, 2, 3, 5, 8, 13, 21, 34, 55, 89]\n",
    "a.sort()\n",
    "print(\"Largest element is:\", a[-1]) "
   ]
  },
  {
   "cell_type": "code",
   "execution_count": 2,
   "metadata": {},
   "outputs": [
    {
     "name": "stdout",
     "output_type": "stream",
     "text": [
      "1\n",
      "1\n",
      "2\n",
      "3\n"
     ]
    }
   ],
   "source": [
    "#TASK06\n",
    "a = [1, 1, 2, 3, 5, 8, 13, 21, 34, 55, 89]\n",
    "for x in a:\n",
    "    if x<5:\n",
    "        print(x)\n",
    "        \n",
    "        "
   ]
  },
  {
   "cell_type": "code",
   "execution_count": null,
   "metadata": {},
   "outputs": [],
   "source": []
  }
 ],
 "metadata": {
  "kernelspec": {
   "display_name": "Python 3",
   "language": "python",
   "name": "python3"
  },
  "language_info": {
   "codemirror_mode": {
    "name": "ipython",
    "version": 3
   },
   "file_extension": ".py",
   "mimetype": "text/x-python",
   "name": "python",
   "nbconvert_exporter": "python",
   "pygments_lexer": "ipython3",
   "version": "3.7.4"
  }
 },
 "nbformat": 4,
 "nbformat_minor": 4
}
